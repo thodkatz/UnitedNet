{
 "cells": [
  {
   "cell_type": "code",
   "execution_count": 1,
   "metadata": {},
   "outputs": [],
   "source": [
    "technique = 'atacseq'\n",
    "data_path = f\"../data/ATACseq\"\n",
    "root_save_path = f\"../saved_results/{technique}_new_trans_finetune_v2\"\n",
    "test_batches = ['s1d1', 's1d2', 's1d3', 's2d1', 's2d4', 's2d5', 's3d3', 's3d6', 's3d7',\n",
    "       's3d10', 's4d1', 's4d8', 's4d9']\n",
    "device = \"cuda:0\""
   ]
  },
  {
   "cell_type": "code",
   "execution_count": 2,
   "metadata": {},
   "outputs": [
    {
     "ename": "ModuleNotFoundError",
     "evalue": "No module named 'scanpy'",
     "output_type": "error",
     "traceback": [
      "\u001b[0;31m---------------------------------------------------------------------------\u001b[0m",
      "\u001b[0;31mModuleNotFoundError\u001b[0m                       Traceback (most recent call last)",
      "Cell \u001b[0;32mIn[2], line 1\u001b[0m\n\u001b[0;32m----> 1\u001b[0m \u001b[38;5;28;01mimport\u001b[39;00m \u001b[38;5;21;01mscanpy\u001b[39;00m \u001b[38;5;28;01mas\u001b[39;00m \u001b[38;5;21;01msc\u001b[39;00m\n\u001b[1;32m      2\u001b[0m adata_atac \u001b[38;5;241m=\u001b[39m sc\u001b[38;5;241m.\u001b[39mread_h5ad(\u001b[38;5;124mf\u001b[39m\u001b[38;5;124m'\u001b[39m\u001b[38;5;132;01m{\u001b[39;00mdata_path\u001b[38;5;132;01m}\u001b[39;00m\u001b[38;5;124m/atac_processed.h5ad\u001b[39m\u001b[38;5;124m'\u001b[39m)\n\u001b[1;32m      3\u001b[0m adata_atac\u001b[38;5;241m.\u001b[39mX \u001b[38;5;241m=\u001b[39m adata_atac\u001b[38;5;241m.\u001b[39mX\u001b[38;5;241m.\u001b[39mtoarray()\n",
      "\u001b[0;31mModuleNotFoundError\u001b[0m: No module named 'scanpy'"
     ]
    }
   ],
   "source": [
    "import scanpy as sc\n",
    "adata_atac = sc.read_h5ad(f'{data_path}/atac_processed.h5ad')\n",
    "adata_atac.X = adata_atac.X.toarray()\n",
    "adata_atac.obs['label'] = list(adata_atac.obs['cell_type'])\n",
    "adata_gex  = sc.read_h5ad(f'{data_path}/gex_processed.h5ad')\n",
    "adata_gex.obs['label'] = list(adata_gex.obs['cell_type'])\n",
    "\n",
    "def split_data(test_batch):\n",
    "    adata_atac_train = adata_atac[adata_atac.obs['batch']!=test_batch]\n",
    "    adata_atac_test  = adata_atac[adata_atac.obs['batch']==test_batch]\n",
    "\n",
    "    adata_gex_train = adata_gex[adata_gex.obs['batch']!=test_batch]\n",
    "    adata_gex_test  = adata_gex[adata_gex.obs['batch']==test_batch]\n",
    "\n",
    "    return [adata_atac_train, adata_gex_train], [adata_atac_test, adata_gex_test]"
   ]
  },
  {
   "cell_type": "markdown",
   "metadata": {},
   "source": [
    "##### Train"
   ]
  },
  {
   "cell_type": "code",
   "execution_count": null,
   "metadata": {},
   "outputs": [],
   "source": [
    "import sys\n",
    "sys.path.append('..')\n",
    "from src.interface import UnitedNet\n",
    "from src.configs import *"
   ]
  },
  {
   "cell_type": "code",
   "execution_count": null,
   "metadata": {},
   "outputs": [],
   "source": [
    "\n",
    "\n",
    "for test_batch in test_batches:\n",
    "    print(test_batch)\n",
    "    adatas_train, adatas_test = split_data(test_batch)\n",
    "    model = UnitedNet(f\"{root_save_path}/{test_batch}\", device=device, technique=atacseq_config)\n",
    "    model.train(adatas_train, verbose=True)\n",
    "    model.finetune(adatas_train, verbose=True)\n",
    "    model.transfer(adatas_train, adatas_transfer = adatas_test, verbose=True)\n",
    "    print(model.evaluate(adatas_test))\n"
   ]
  },
  {
   "cell_type": "code",
   "execution_count": null,
   "metadata": {},
   "outputs": [],
   "source": [
    "import matplotlib.pyplot as plt\n",
    "import numpy as np"
   ]
  },
  {
   "cell_type": "code",
   "execution_count": null,
   "metadata": {
    "scrolled": false
   },
   "outputs": [],
   "source": [
    "import scanpy as sc \n",
    "for test_batch in ['s1d1']:\n",
    "    model = UnitedNet(f\"{root_save_path}/{test_batch}\", device=device, technique=atacseq_config)\n",
    "    model.load_model(f\"{root_save_path}/{test_batch}/transfer_best.pt\",device=torch.device(device))\n",
    "    model.model.device_in_use = device\n",
    "    adatas = [adata_atac, adata_gex]\n",
    "    adata_all = model.infer(adatas)\n",
    "    adata_all.obs['batch'] = list(adatas[0].obs['batch'])\n",
    "    adata_all.obs['label'] = list(adatas[0].obs['label'])\n",
    "\n",
    "    cmap_wt = plt.get_cmap('ocean')\n",
    "    new_cmap = list(cmap_wt(np.linspace(0, 0.91, 12)))\n",
    "    size_umap = 120000 / adatas[0].shape[0]\n",
    "\n",
    "    fig,ax=plt.subplots()\n",
    "    ax = sc.pl.umap(adata_all[adata_all.obs['batch']!=test_batch],color=['batch'],size=size_umap,frameon = False,palette=new_cmap,ax=ax,show=False)\n",
    "    sc.pl.umap(adata_all[adata_all.obs['batch']==test_batch],color=['batch'],size=size_umap*1.2,frameon = True,palette=['grey'],\n",
    "               ax=ax,save=f'ATACseq_{test_batch}_batch_label.pdf')\n",
    "\n",
    "    fig,ax=plt.subplots()\n",
    "    sc.pl.umap(adata_all,color=['label'],size=size_umap*1.2,frameon = True,palette='gist_rainbow',\n",
    "               ax=ax,save=f'ATACseq_{test_batch}_gt_label.pdf')\n",
    "\n",
    "    fig,ax=plt.subplots()\n",
    "    sc.pl.umap(adata_all,color=['predicted_label'],size=size_umap*1.2,frameon = True,palette='gist_rainbow',\n",
    "               ax=ax,save=f'ATACseq_{test_batch}_predict_label.pdf')\n",
    "    fig,ax=plt.subplots()\n",
    "    sc.pl.umap(adata_all[adata_all.obs['batch']==test_batch],color=['predicted_label'],frameon = True,palette='gist_rainbow',\n",
    "           ax=ax,save=f'ATACseq_{test_batch}_batch_label_test.pdf')"
   ]
  },
  {
   "cell_type": "code",
   "execution_count": null,
   "metadata": {},
   "outputs": [],
   "source": [
    "import matplotlib\n",
    "matplotlib.rcParams['savefig.dpi'] = 1200\n",
    "fig,ax=plt.subplots()\n",
    "ax = sc.pl.umap(adata_all[adata_all.obs['batch']!=test_batch],color=['batch'],size=size_umap,frameon = False,palette=new_cmap,ax=ax,show=False)\n",
    "sc.pl.umap(adata_all[adata_all.obs['batch']==test_batch],color=['batch'],size=size_umap*1.2,frameon = True,palette=['grey'],\n",
    "           ax=ax,save=f'ATACseq_{test_batch}_batch_label.png',legend_loc =None)\n",
    "\n",
    "fig,ax=plt.subplots()\n",
    "sc.pl.umap(adata_all,color=['label'],size=size_umap*1.2,frameon = True,palette='gist_rainbow',\n",
    "           ax=ax,save=f'ATACseq_{test_batch}_gt_label.png',legend_loc =None)\n",
    "\n",
    "fig,ax=plt.subplots()\n",
    "sc.pl.umap(adata_all,color=['predicted_label'],size=size_umap*1.2,frameon = True,palette='gist_rainbow',\n",
    "           ax=ax,save=f'ATACseq_{test_batch}_predict_label.png',legend_loc =None)\n",
    "fig,ax=plt.subplots()\n",
    "sc.pl.umap(adata_all[adata_all.obs['batch']==test_batch],color=['predicted_label'],frameon = True,palette='gist_rainbow',\n",
    "       ax=ax,save=f'ATACseq_{test_batch}_batch_label_test.png',legend_loc =None)"
   ]
  },
  {
   "cell_type": "code",
   "execution_count": null,
   "metadata": {},
   "outputs": [],
   "source": [
    "cmap_wt = plt.get_cmap('viridis')\n",
    "new_cmap = list(cmap_wt(np.linspace(0, 0.91, 12)))\n",
    "fig,ax=plt.subplots()\n",
    "ax = sc.pl.umap(adata_all[adata_all.obs['batch']!=test_batch],color=['batch'],size=size_umap,frameon = False,palette=new_cmap,ax=ax,show=False)\n",
    "sc.pl.umap(adata_all[adata_all.obs['batch']==test_batch],color=['batch'],size=size_umap*1.2,frameon = True,palette=['grey'],\n",
    "           ax=ax,save=f'ATACseq_{test_batch}_batch_label.png',legend_loc =None)\n"
   ]
  },
  {
   "cell_type": "code",
   "execution_count": null,
   "metadata": {},
   "outputs": [],
   "source": [
    "\n",
    "cmap_wt = plt.get_cmap('viridis')\n",
    "new_cmap = list(cmap_wt(np.linspace(0, 1, 12)))\n",
    "fig,ax=plt.subplots()\n",
    "ax = sc.pl.umap(adata_atac[adata_atac.obs['batch']!=test_batch],color=['batch'],size=size_umap,frameon = False,palette=new_cmap,ax=ax,show=False)\n",
    "sc.pl.umap(adata_atac[adata_atac.obs['batch']==test_batch],color=['batch'],size=size_umap*1.2,frameon = True,palette=['grey'],\n",
    "           ax=ax,save=f'ATACseq_{test_batch}_batch_label_atac_only.png',legend_loc =None)\n"
   ]
  },
  {
   "cell_type": "code",
   "execution_count": null,
   "metadata": {},
   "outputs": [],
   "source": [
    "fig,ax=plt.subplots()\n",
    "sc.pl.umap(adata_all[adata_all.obs['batch']==test_batch],color=['batch'],frameon = True,palette='gist_rainbow',\n",
    "       ax=ax,save=f'ATACseq_{test_batch}_batch_label_test_colored_batch.png',legend_loc =None)"
   ]
  },
  {
   "cell_type": "code",
   "execution_count": null,
   "metadata": {},
   "outputs": [],
   "source": [
    "fig,ax=plt.subplots()\n",
    "sc.pl.umap(adata_all[adata_all.obs['label'].isin(['CD8+ T','CD8+ T naive'])],color=['batch'],frameon = True,palette='gist_rainbow',\n",
    "       ax=ax,save=f'ATACseq_{test_batch}_CD8T_position.png',legend_loc =None)"
   ]
  },
  {
   "cell_type": "code",
   "execution_count": null,
   "metadata": {},
   "outputs": [],
   "source": [
    "import pandas as pd\n",
    "adata_atac.var_names = np.append(pd.read_csv(f'../data/ATACseq/annotated_ATAC_gene_names_10k.csv').iloc[:,0].values,'unknown')\n",
    "adata_atac.var_names_make_unique()\n",
    "adata_atac.var_names = adata_atac.var_names.astype(str)"
   ]
  },
  {
   "cell_type": "code",
   "execution_count": null,
   "metadata": {},
   "outputs": [],
   "source": [
    "adatas_all_orig = [adata_atac,adata_gex]\n",
    "cd8t_specific = [\n",
    "    ['CD8A-1','DPP8','KDM2B-1','KDM6B-1'],\n",
    "    ['CD8A','A2M','LEF1','NELL2'],\n",
    "]\n",
    "mods = ['ATAC','Gene']\n",
    "for mjt in ['CD8_T_cells']:\n",
    "    print(mjt)\n",
    "    for ii in range(2):\n",
    "        adata_all.obs[cd8t_specific[ii]] = adatas_all_orig[ii][:,cd8t_specific[ii]].X\n",
    "        sc.pl.umap(adata_all,color=cd8t_specific[ii],cmap='bwr',show=True,save=f'{mjt}_{mods[ii]}.png')\n"
   ]
  },
  {
   "cell_type": "code",
   "execution_count": null,
   "metadata": {},
   "outputs": [],
   "source": [
    "from matplotlib.patches import FancyArrowPatch\n",
    "from mpl_toolkits.mplot3d import proj3d\n",
    "\n",
    "class Arrow3D(FancyArrowPatch):\n",
    "    def __init__(self, xs, ys, zs, *args, **kwargs):\n",
    "        super().__init__((0,0), (0,0), *args, **kwargs)\n",
    "        self._verts3d = xs, ys, zs\n",
    "\n",
    "    def do_3d_projection(self, renderer=None):\n",
    "        xs3d, ys3d, zs3d = self._verts3d\n",
    "        xs, ys, zs = proj3d.proj_transform(xs3d, ys3d, zs3d, self.axes.M)\n",
    "        self.set_positions((xs[0],ys[0]),(xs[1],ys[1]))\n",
    "\n",
    "        return np.min(zs)\n",
    "from matplotlib.colors import to_hex\n",
    "type_cl_dict = {}\n",
    "batch_name = test_batch\n",
    "for x,y in zip(adata_all[adata_all.obs['batch']!=batch_name].obs['label'].astype('category').cat.categories,\n",
    "               plt.get_cmap('gist_rainbow')(np.linspace(0, 1, len(adata_all.obs['label'].unique()))).tolist()):\n",
    "    type_cl_dict[x] = to_hex(y)\n",
    "\n",
    "\n",
    "new_cmap = adata_all[adata_all.obs['batch']!=batch_name].obs['label'].map(type_cl_dict).values\n",
    "new_cmap_bct = adata_all[adata_all.obs['batch']==batch_name].obs['predicted_label'].map(type_cl_dict).values\n",
    "\n",
    "size_umap = 120000 / adatas[0].shape[0]\n",
    "                                                                                    \n",
    "fig = plt.figure(figsize=[20,10])\n",
    "ax = plt.axes(projection=\"3d\")\n",
    "np.random.seed(0)\n",
    "ax.scatter3D(1, adata_all[adata_all.obs['batch']!=batch_name].obsm['X_umap'][:,0],\n",
    "              adata_all[adata_all.obs['batch']!=batch_name].obsm['X_umap'][:,1], color=new_cmap,s=size_umap, zorder=1)\n",
    "ax.scatter3D(2, adata_all[adata_all.obs['batch']==batch_name].obsm['X_umap'][:,0],\n",
    "              adata_all[adata_all.obs['batch']==batch_name].obsm['X_umap'][:,1], color='gray',s=size_umap, zorder=2)\n",
    "ax.scatter3D(3, adata_all[adata_all.obs['batch']==batch_name].obsm['X_umap'][:,0],\n",
    "              adata_all[adata_all.obs['batch']==batch_name].obsm['X_umap'][:,1], color=new_cmap_bct,s=size_umap, zorder=3)\n",
    "all_dots_x = adata_all[adata_all.obs['batch']!=batch_name].obsm['X_umap'][:,0]\n",
    "all_dots_y = adata_all[adata_all.obs['batch']!=batch_name].obsm['X_umap'][:,1]\n",
    "u_l = [all_dots_x.min()-1,all_dots_y.max()+1]\n",
    "u_r = [all_dots_x.max()+1,all_dots_y.max()+1]\n",
    "l_l = [all_dots_x.min()-1,all_dots_y.min()-1]\n",
    "l_r = [all_dots_x.max()+1,all_dots_y.min()-1]\n",
    "\n",
    "ax.plot3D([1,1,1,1,1],[l_r[0],l_l[0],u_l[0],u_r[0],l_r[0]],[l_r[1],l_l[1],u_l[1],u_r[1],l_r[1]],color='k', zorder=1)\n",
    "ax.plot3D([2,2,2,2,2],[l_r[0],l_l[0],u_l[0],u_r[0],l_r[0]],[l_r[1],l_l[1],u_l[1],u_r[1],l_r[1]],color='k', zorder=2)\n",
    "ax.plot3D([3,3,3,3,3],[l_r[0],l_l[0],u_l[0],u_r[0],l_r[0]],[l_r[1],l_l[1],u_l[1],u_r[1],l_r[1]],color='k', zorder=3)\n",
    "\n",
    "ax.view_init(5, -70)\n",
    "# Hide grid lines\n",
    "ax.grid(False)\n",
    "plt.axis('off')\n",
    "# Hide axes ticks\n",
    "ax.set_xticks([])\n",
    "ax.set_yticks([])\n",
    "ax.set_zticks([])\n",
    "\n",
    "for y,z in zip([l_r[0],l_l[0],u_l[0],u_r[0]],[l_r[1],l_l[1],u_l[1],u_r[1]]):\n",
    "  a = Arrow3D([1, 3], [y, y], \n",
    "              [z, z], mutation_scale=20, ls=\"dashed\",\n",
    "              lw=1, arrowstyle=\"-|>\", color=\"grey\")\n",
    "  ax.add_artist(a)\n",
    "\n",
    "plt.savefig('./figures/ATACseq_transfer_cell_type.png',dpi=800)\n",
    "plt.show()"
   ]
  },
  {
   "cell_type": "code",
   "execution_count": null,
   "metadata": {},
   "outputs": [],
   "source": []
  }
 ],
 "metadata": {
  "interpreter": {
   "hash": "97b7d77420ca4e0cd28fdf9d8c3116268e392bb590098832477fc5ab8967a27e"
  },
  "kernelspec": {
   "display_name": "Python 3 (ipykernel)",
   "language": "python",
   "name": "python3"
  },
  "language_info": {
   "codemirror_mode": {
    "name": "ipython",
    "version": 3
   },
   "file_extension": ".py",
   "mimetype": "text/x-python",
   "name": "python",
   "nbconvert_exporter": "python",
   "pygments_lexer": "ipython3",
   "version": "3.12.4"
  }
 },
 "nbformat": 4,
 "nbformat_minor": 2
}
